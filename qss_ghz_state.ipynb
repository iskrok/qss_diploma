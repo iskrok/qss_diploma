{
 "cells": [
  {
   "cell_type": "code",
   "execution_count": 1,
   "metadata": {},
   "outputs": [],
   "source": [
    "#Подключение небходимых библиотек\n",
    "import qiskit, qiskit_aer\n",
    "import qiskit.visualization\n",
    "import random"
   ]
  },
  {
   "cell_type": "code",
   "execution_count": 2,
   "metadata": {},
   "outputs": [],
   "source": [
    "qubits_num = 3 #количество необходимых кубитов\n",
    "secret_length = 256 #длина секрета\n",
    "secret = []\n",
    "for i in range(secret_length): #генерация случайного секрета\n",
    "    bit = random.randint(0,1)\n",
    "    secret.append(bit)"
   ]
  },
  {
   "cell_type": "code",
   "execution_count": 3,
   "metadata": {},
   "outputs": [],
   "source": [
    "#функция генерации ghz состояния\n",
    "def generate_ghz():\n",
    "    qc = qiskit.QuantumCircuit(qubits_num, qubits_num) #указываем количество \n",
    "    #кубитов и классических регистров\n",
    "    \n",
    "    qc.h(0) #применяем гейт Адамара\n",
    "    qc.cx(0,1) # и гейты CNOT\n",
    "    qc.cx(0,2)\n",
    "    return qc"
   ]
  },
  {
   "cell_type": "code",
   "execution_count": 4,
   "metadata": {},
   "outputs": [],
   "source": [
    "#функция кодирования секрета\n",
    "def secret_encode(secret):\n",
    "    schemes = [] #массив ghz состояний, содержащих весь секрет\n",
    "    for bit in secret:\n",
    "        qc = generate_ghz() #генерируем ghz состояние\n",
    "        if bit == 1: #если кодируем бит \"1\", то применяем гейт Паули Z, \n",
    "            #иначе ничего не делаем\n",
    "            \n",
    "            qc.z(0)\n",
    "        schemes.append(qc)\n",
    "    return schemes"
   ]
  },
  {
   "cell_type": "code",
   "execution_count": 5,
   "metadata": {},
   "outputs": [],
   "source": [
    "#производим кодирование секрета\n",
    "encoded_secret = secret_encode(secret)"
   ]
  },
  {
   "cell_type": "code",
   "execution_count": 6,
   "metadata": {},
   "outputs": [
    {
     "data": {
      "image/png": "[encoded data removed]",
      "text/plain": [
       "<Figure size 371.107x367.889 with 1 Axes>"
      ]
     },
     "execution_count": 6,
     "metadata": {},
     "output_type": "execute_result"
    }
   ],
   "source": [
    "encoded_secret[0].draw(output='mpl')"
   ]
  },
  {
   "cell_type": "code",
   "execution_count": 7,
   "metadata": {},
   "outputs": [],
   "source": [
    "#функция восстановления секрета\n",
    "def secret_decode(schemes):\n",
    "    recovered_secret = [] #восстановленный секрет\n",
    "    bases=[] #выбранные базисы\n",
    "    counts = \"\"\n",
    "    for scheme in schemes:\n",
    "        bases = []\n",
    "        y_bases = 1\n",
    "        while y_bases % 2 != 0: #случайно выбираем базисы до тех пор пока Y \n",
    "            #базисов не будет четно\n",
    "            bases = []\n",
    "            for i in range(3):\n",
    "                rand = random.randint(0,1)\n",
    "                if rand == 0:\n",
    "                    bases.append('x')\n",
    "                else:\n",
    "                    bases.append('y')\n",
    "            y_bases = bases.count('y')\n",
    "\n",
    "        #проведение измерений\n",
    "        for i in range(3):\n",
    "            if bases[i] == 'x':\n",
    "                scheme.h(i) #применяется гейт Адамара\n",
    "            else:\n",
    "                scheme.sdg(i) #применяется гейт sdg, затем гейт Адамара\n",
    "                scheme.h(i)\n",
    "            scheme.measure(i,i) #измерение i-ого кубита и запись результата в \n",
    "            #i-й классический регистр\n",
    "        \n",
    "        backend = qiskit_aer.AerSimulator() #подключение симулятора\n",
    "        circuit = qiskit.transpile(scheme, backend) #транспиляция схемы\n",
    "        job = backend.run(circuit, shots=1) #запускаем схему по одному разу для \n",
    "        #каждого бита\n",
    "        result = job.result() #считываем результаты измерений\n",
    "        counts=result.get_counts()\n",
    "        measures = list(map(int, list(counts.keys())[0])) #преобразуем полученные \n",
    "        #результаты в массив битов\n",
    "        #восстановление бита секрета по известной информации\n",
    "        if bases[1] == 'x' and bases[2] == 'x':\n",
    "            if (measures[1] == 0 and measures[2] == 0) or (measures[1] == 1 and\n",
    "                                                           measures[2] == 1):\n",
    "                if measures[0] == 0:\n",
    "                    recovered_secret.append(0)\n",
    "                else:\n",
    "                    recovered_secret.append(1)\n",
    "            elif (measures[1] == 0 and measures[2] == 1) or (measures[1] == 1 and \n",
    "                                                             measures[2] == 0):\n",
    "                if measures[0] == 1:\n",
    "                    recovered_secret.append(0)\n",
    "                else:\n",
    "                    recovered_secret.append(1)\n",
    "                \n",
    "        elif bases[1] == 'y' and bases[2] == 'y':\n",
    "            if (measures[1] == 0 and measures[2] == 0) or (measures[1] == 1 and \n",
    "                                                           measures[2] == 1):\n",
    "                if measures[0] == 1:\n",
    "                    recovered_secret.append(0)\n",
    "                else:\n",
    "                    recovered_secret.append(1)\n",
    "            elif (measures[1] == 0 and measures[2] == 1) or (measures[1] == 1 and \n",
    "                                                             measures[2] == 0):\n",
    "                if measures[0] == 0:\n",
    "                    recovered_secret.append(0)\n",
    "                else:\n",
    "                    recovered_secret.append(1)\n",
    "                \n",
    "        elif (bases[1] == 'y' and bases[2] == 'x') or (bases[1] == 'x' and \n",
    "                                                       bases[2] == 'y'):\n",
    "            if (measures[1] == 0 and measures[2] == 0) or (measures[1] == 1 and \n",
    "                                                           measures[2] == 1):\n",
    "                if measures[0] == 1:\n",
    "                    recovered_secret.append(0)\n",
    "                else:\n",
    "                    recovered_secret.append(1)\n",
    "            elif (measures[1] == 0 and measures[2] == 1) or (measures[1] == 1 and \n",
    "                                                             measures[2] == 0):\n",
    "                if measures[0] == 0:\n",
    "                    recovered_secret.append(0)\n",
    "                else:\n",
    "                    recovered_secret.append(1)\n",
    "    \n",
    "    return recovered_secret\n",
    "            \n",
    "        "
   ]
  },
  {
   "cell_type": "code",
   "execution_count": null,
   "metadata": {},
   "outputs": [
    {
     "name": "stdout",
     "output_type": "stream",
     "text": [
      "0\n"
     ]
    }
   ],
   "source": [
    "recovered_secret = secret_decode(encoded_secret) #применяем функцию декодирования \n",
    "#секрета\n",
    "errors = 0 #количество ошибок\n",
    "for i in range(secret_length): #подсчитываем количество ошибок\n",
    "    if secret[i] != recovered_secret[i]:\n",
    "        errors += 1\n",
    "print(errors)\n"
   ]
  },
  {
   "cell_type": "code",
   "execution_count": 14,
   "metadata": {},
   "outputs": [
    {
     "data": {
      "image/png": "[encoded data removed]",
      "text/plain": [
       "<Figure size 352.675x200.667 with 1 Axes>"
      ]
     },
     "execution_count": 14,
     "metadata": {},
     "output_type": "execute_result"
    }
   ],
   "source": [
    "qc2 = qiskit.QuantumCircuit(1,1)\n",
    "qc2.sdg(0)\n",
    "qc2.h(0)\n",
    "qc2.measure(0,0)\n",
    "qc2.draw(output='mpl')"
   ]
  },
  {
   "cell_type": "code",
   "execution_count": 10,
   "metadata": {},
   "outputs": [
    {
     "ename": "NameError",
     "evalue": "name 'counts' is not defined",
     "output_type": "error",
     "traceback": [
      "\u001b[1;31m---------------------------------------------------------------------------\u001b[0m",
      "\u001b[1;31mNameError\u001b[0m                                 Traceback (most recent call last)",
      "Cell \u001b[1;32mIn[10], line 1\u001b[0m\n\u001b[1;32m----> 1\u001b[0m qiskit\u001b[38;5;241m.\u001b[39mvisualization\u001b[38;5;241m.\u001b[39mplot_histogram(\u001b[43mcounts\u001b[49m)\n",
      "\u001b[1;31mNameError\u001b[0m: name 'counts' is not defined"
     ]
    }
   ],
   "source": [
    "qiskit.visualization.plot_histogram(counts)"
   ]
  }
 ],
 "metadata": {
  "kernelspec": {
   "display_name": ".venv",
   "language": "python",
   "name": "python3"
  },
  "language_info": {
   "codemirror_mode": {
    "name": "ipython",
    "version": 3
   },
   "file_extension": ".py",
   "mimetype": "text/x-python",
   "name": "python",
   "nbconvert_exporter": "python",
   "pygments_lexer": "ipython3",
   "version": "3.11.9"
  }
 },
 "nbformat": 4,
 "nbformat_minor": 2
}
