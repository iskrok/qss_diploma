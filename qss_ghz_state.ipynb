{
 "cells": [
  {
   "cell_type": "code",
   "execution_count": 387,
   "metadata": {},
   "outputs": [],
   "source": [
    "#Подключение небходимых библиотек\n",
    "import qiskit, qiskit_aer\n",
    "import qiskit.visualization\n",
    "import qiskit_ibm_runtime\n",
    "import random\n",
    "import time\n",
    "from qiskit.transpiler.preset_passmanagers import generate_preset_pass_manager"
   ]
  },
  {
   "cell_type": "code",
   "execution_count": 388,
   "metadata": {},
   "outputs": [],
   "source": [
    "#service = qiskit_ibm_runtime.QiskitRuntimeService(channel ='ibm_quantum', token='17efa62aa9873b5a041acbd771297e673778205cc443bc748e869e84330c331fc92ce25cd9f5b87f1432106dd7983eedac0deedc237296b7ed815d6200f31b5a')"
   ]
  },
  {
   "cell_type": "code",
   "execution_count": 389,
   "metadata": {},
   "outputs": [],
   "source": [
    "qubits_num = 3 #количество необходимых кубитов\n",
    "secret_length = 10 #длина секрета\n",
    "secret = []\n",
    "for i in range(secret_length): #генерация случайного секрета\n",
    "    bit = random.randint(0,1)\n",
    "    secret.append(bit)"
   ]
  },
  {
   "cell_type": "code",
   "execution_count": 390,
   "metadata": {},
   "outputs": [],
   "source": [
    "#функция генерации ghz состояния\n",
    "def generate_ghz():\n",
    "    qc = qiskit.QuantumCircuit(qubits_num, qubits_num) #указываем количество \n",
    "    #кубитов и классических регистров\n",
    "    \n",
    "    qc.h(0) #применяем гейт Адамара\n",
    "    qc.cx(0,1) # и гейты CNOT\n",
    "    qc.cx(0,2)\n",
    "    return qc"
   ]
  },
  {
   "cell_type": "code",
   "execution_count": 391,
   "metadata": {},
   "outputs": [],
   "source": [
    "#функция кодирования секрета\n",
    "def secret_encode(secret):\n",
    "    schemes = [] #массив ghz состояний, содержащих весь секрет\n",
    "    for bit in secret:\n",
    "        qc = generate_ghz() #генерируем ghz состояние\n",
    "        if bit == 1: #если кодируем бит \"1\", то применяем гейт Паули Z, \n",
    "            #иначе ничего не делаем\n",
    "            \n",
    "            qc.z(0)\n",
    "        schemes.append(qc)\n",
    "    return schemes"
   ]
  },
  {
   "cell_type": "code",
   "execution_count": 392,
   "metadata": {},
   "outputs": [],
   "source": [
    "ts1 = time.time()\n",
    "#производим кодирование секрета\n",
    "encoded_secret = secret_encode(secret)"
   ]
  },
  {
   "cell_type": "code",
   "execution_count": 393,
   "metadata": {},
   "outputs": [],
   "source": [
    "#функция выбора базисов\n",
    "def generate_bases():\n",
    "    bases = [] #выбранные базисы\n",
    "    y_bases = 1\n",
    "    while y_bases % 2 != 0: #случайно выбираем базисы до тех пор пока Y \n",
    "        #базисов не будет четно\n",
    "        bases = []\n",
    "        for i in range(3):\n",
    "            rand = random.randint(0,1)\n",
    "            if rand == 0:\n",
    "                bases.append('x')\n",
    "            else:\n",
    "                bases.append('y')\n",
    "        y_bases = bases.count('y')\n",
    "    return bases"
   ]
  },
  {
   "cell_type": "code",
   "execution_count": 394,
   "metadata": {},
   "outputs": [],
   "source": [
    "#функция проведения измерений в базисах X и Y\n",
    "def bases_measurment(scheme, bases):\n",
    "    for i in range(3):\n",
    "        if bases[i] == 'x':\n",
    "            scheme.h(i) #применяется гейт Адамара\n",
    "        else:\n",
    "            scheme.sdg(i) #применяется гейт sdg, затем гейт Адамара\n",
    "            scheme.h(i)\n",
    "        scheme.measure(i,i) #измерение i-ого кубита и запись результата в \n",
    "            #i-й классический регистр\n",
    "    return scheme"
   ]
  },
  {
   "cell_type": "code",
   "execution_count": 395,
   "metadata": {},
   "outputs": [],
   "source": [
    "#функция восстановления бита секрета по известной информации\n",
    "def bit_recovering(bases, measures):\n",
    "    if bases[1] == 'x' and bases[2] == 'x':\n",
    "        if (measures[1] == 0 and measures[2] == 0) or (measures[1] == 1 and \n",
    "                                                       measures[2] == 1):\n",
    "            if measures[0] == 0:\n",
    "                return 0\n",
    "            else:\n",
    "                return 1\n",
    "        elif (measures[1] == 0 and measures[2] == 1) or (measures[1] == 1 and \n",
    "                                                         measures[2] == 0):\n",
    "            if measures[0] == 1:\n",
    "                return 0\n",
    "            else:\n",
    "                return 1\n",
    "                \n",
    "    elif bases[1] == 'y' and bases[2] == 'y':\n",
    "        if (measures[1] == 0 and measures[2] == 0) or (measures[1] == 1 and  \n",
    "                                                       measures[2] == 1):\n",
    "            if measures[0] == 1:\n",
    "                return 0\n",
    "            else:\n",
    "                return 1\n",
    "        elif (measures[1] == 0 and measures[2] == 1) or (measures[1] == 1 and  \n",
    "                                                         measures[2] == 0):\n",
    "            if measures[0] == 0:\n",
    "                return 0\n",
    "            else:\n",
    "                return 1\n",
    "                \n",
    "    elif (bases[1] == 'y' and bases[2] == 'x') or (bases[1] == 'x' and \n",
    "                                                   bases[2] == 'y'):\n",
    "        if (measures[1] == 0 and measures[2] == 0) or (measures[1] == 1 and \n",
    "                                                       measures[2] == 1):\n",
    "            if measures[0] == 1:\n",
    "                return 0\n",
    "            else:\n",
    "                return 1\n",
    "        elif (measures[1] == 0 and measures[2] == 1) or (measures[1] == 1 and  \n",
    "                                                         measures[2] == 0):\n",
    "            if measures[0] == 0:\n",
    "                return 0\n",
    "            else:\n",
    "                return 1"
   ]
  },
  {
   "cell_type": "code",
   "execution_count": 396,
   "metadata": {},
   "outputs": [],
   "source": [
    "#функция восстановления секрета\n",
    "def secret_decode(schemes):\n",
    "    recovered_secret = [] #восстанавливаемый секрет\n",
    "    for scheme in schemes:\n",
    "        measures = []\n",
    "        bases = generate_bases() #генерируем базисы\n",
    "\n",
    "        #проведение измерений\n",
    "        scheme = bases_measurment(scheme, bases) #проводим измерения\n",
    "        \n",
    "        backend = qiskit_aer.AerSimulator() #подключение симулятора\n",
    "        \n",
    "        circuit = qiskit.transpile(scheme, backend) #транспиляция схемы\n",
    "\n",
    "        job = backend.run(circuit, shots=1) #запускаем схему по одному разу для \n",
    "        #каждого бита\n",
    "        \n",
    "        result = job.result() #считываем результаты измерений\n",
    "        counts=result.get_counts()\n",
    "\n",
    "        measures = list(map(int, list(counts.keys())[0])) #преобразуем полученные \n",
    "\n",
    "        #результаты в массив битов\n",
    "        \n",
    "        recovered_bit = bit_recovering(bases, measures) #восстанавливаем отдельный \n",
    "        #бит\n",
    "        recovered_secret.append(recovered_bit) #добавляем бит к восстанавливаемому \n",
    "        #секрету\n",
    "\n",
    "    return recovered_secret\n",
    "            \n",
    "        "
   ]
  },
  {
   "cell_type": "code",
   "execution_count": 397,
   "metadata": {},
   "outputs": [
    {
     "name": "stdout",
     "output_type": "stream",
     "text": [
      "0\n",
      "0.4920797348022461\n"
     ]
    }
   ],
   "source": [
    "recovered_secret = secret_decode(encoded_secret) #применяем функцию декодирования \n",
    "#секрета\n",
    "ts2 = time.time()\n",
    "errors = 0 #количество ошибок\n",
    "for i in range(secret_length): #подсчитываем количество ошибок\n",
    "    if secret[i] != recovered_secret[i]:\n",
    "        errors += 1\n",
    "print(errors)\n",
    "print(ts2-ts1)"
   ]
  },
  {
   "cell_type": "code",
   "execution_count": null,
   "metadata": {},
   "outputs": [],
   "source": [
    "\n",
    "\n",
    "\n",
    "\n",
    "\n",
    "\n",
    "\n",
    "\n",
    "\n",
    "\n",
    "\n",
    "\n",
    "\n",
    "\n",
    "\n",
    "\n",
    "\n",
    "\n",
    "\n",
    "\n",
    "\n",
    "\n",
    "\n",
    "\n",
    "\n"
   ]
  },
  {
   "cell_type": "code",
   "execution_count": 398,
   "metadata": {},
   "outputs": [],
   "source": [
    "total_qubits_num = 127 #количество кубит квантового процессора\n",
    "qubits_num = 3 #количество необходимых кубитов для передачи одного бита секрета\n",
    "secret_length = total_qubits_num//3 #длина секрета\n",
    "secret = []\n",
    "for i in range(secret_length): #генерация случайного секрета\n",
    "    bit = random.randint(0,1)\n",
    "    secret.append(bit)"
   ]
  },
  {
   "cell_type": "code",
   "execution_count": 399,
   "metadata": {},
   "outputs": [],
   "source": [
    "#функция генерации ghz состояний на квантовом процессоре\n",
    "def generate_ghz_real():\n",
    "    qc = qiskit.QuantumCircuit(total_qubits_num, total_qubits_num) #указываем\n",
    "    #количество кубитов и классических регистров\n",
    "    for i in range(0, total_qubits_num - qubits_num + 1, qubits_num):\n",
    "        qc.h(i) #применяем гейт Адамара\n",
    "        qc.cx(i,i+1) # и гейты CNOT\n",
    "        qc.cx(i,i+2)\n",
    "    return qc"
   ]
  },
  {
   "cell_type": "code",
   "execution_count": 400,
   "metadata": {},
   "outputs": [],
   "source": [
    "#функция кодирования секрета для квантового процессора\n",
    "def secret_encode_real(secret):\n",
    "    qc = generate_ghz_real() #генерируем ghz состояние\n",
    "    for i in range(len(secret)):\n",
    "        if secret[i] == 1: #если кодируем бит \"1\", то применяем гейт Паули Z, \n",
    "            #иначе ничего не делаем\n",
    "            qc.z(i*3)\n",
    "    return qc"
   ]
  },
  {
   "cell_type": "code",
   "execution_count": 401,
   "metadata": {},
   "outputs": [],
   "source": [
    "#производим кодирование секрета\n",
    "encoded_secret_real = secret_encode_real(secret)"
   ]
  },
  {
   "cell_type": "code",
   "execution_count": 402,
   "metadata": {},
   "outputs": [],
   "source": [
    "#функция проведения измерений в базисах X и Y для квантового процессора\n",
    "def bases_measurment_real(scheme, bases):\n",
    "    for i in range(total_qubits_num//3): #измерение трех кубитов за итерацию\n",
    "        for j in range(3):\n",
    "            if bases[i][j] == 'x':\n",
    "                scheme.h(i*3+j) #применяется гейт Адамара\n",
    "            else:\n",
    "                scheme.sdg(i*3+j) #применяется гейт sdg, затем гейт Адамара\n",
    "                scheme.h(i*3+j)\n",
    "            scheme.measure(i*3+j,i*3+j) #измерение кубита и запись  \n",
    "            #результата в соответстующий ему классический регистр\n",
    "    return scheme"
   ]
  },
  {
   "cell_type": "code",
   "execution_count": 403,
   "metadata": {},
   "outputs": [],
   "source": [
    "bases_output = []\n",
    "measurment_output = []\n",
    "#функция восстановления секрета на квантовом процессоре\n",
    "def secret_decode_real(scheme):\n",
    "    recovered_secret = [] #восстанавливаемый секрет\n",
    "    measures = []\n",
    "    bases = []\n",
    "    for i in range(total_qubits_num//3):\n",
    "        bases.append(generate_bases()) #генерируем тройки базисов\n",
    "\n",
    "    for i in bases:\n",
    "        bases_output.append(i)\n",
    "\n",
    "    scheme = bases_measurment_real(scheme, bases) #проводим измерения\n",
    "    backend = qiskit_aer.AerSimulator()\n",
    "    #backend = service.least_busy(operational=True, simulator=False) #вместо симулятора выбираем  \n",
    "    #квантовое устройство, в данном случае ibm_brisbane\n",
    "\n",
    "    pm = generate_preset_pass_manager(backend=backend, optimization_level=1)\n",
    "    circuit = pm.run(scheme)\n",
    "    sampler = qiskit_ibm_runtime.Sampler(mode=backend, options={\"default_shots\": 1})\n",
    "\n",
    "    job = sampler.run([circuit]) #запускаем схему на квантовом процессоре \n",
    "    #один раз\n",
    "\n",
    "    result = job.result() #считываем результаты измерений\n",
    "    counts = result[0].data.c.get_counts()\n",
    "    count = list(counts.keys())[0]\n",
    "    for i in count:\n",
    "        measures.append(int(i))\n",
    "    #преобразуем полученные результаты в массив троек\n",
    "    measures = measures [(total_qubits_num-secret_length*3):]\n",
    "    measures.reverse() \n",
    "\n",
    "    for i in measures:\n",
    "        measurment_output.append(i)\n",
    "\n",
    "    #восстанавливаем биты секрета\n",
    "    for i in range(len(measures)//3):\n",
    "        \n",
    "        triplet_measure = measures[i*3:(i+1)*3] #тройка результатов измерений\n",
    "\n",
    "        recovered_bit = bit_recovering(bases[i], triplet_measure)\n",
    "\n",
    "        recovered_secret.append(recovered_bit) #добавляем бит к восстанавливаемому \n",
    "        #секрету\n",
    "\n",
    "    return recovered_secret\n"
   ]
  },
  {
   "cell_type": "code",
   "execution_count": 404,
   "metadata": {},
   "outputs": [
    {
     "name": "stdout",
     "output_type": "stream",
     "text": [
      "QBER = 16.666666666666664 %\n"
     ]
    }
   ],
   "source": [
    "recovered_secret = secret_decode_real(encoded_secret_real) #применяем функцию \n",
    "#декодирования секрета\n",
    "\n",
    "errors = 0 #количество ошибок\n",
    "for i in range(secret_length): #подсчитываем количество ошибок\n",
    "    if secret[i] != recovered_secret[i]:\n",
    "        errors += 1\n",
    "\n",
    "qber = errors/secret_length*100 #QBER - величина, показывает процент ошибок\n",
    "print(\"QBER =\", qber,\"%\")"
   ]
  },
  {
   "cell_type": "code",
   "execution_count": 407,
   "metadata": {},
   "outputs": [
    {
     "name": "stdout",
     "output_type": "stream",
     "text": [
      "xyy yyx xxx yxy xxx yxy yxy yyx xxx yyx xxx xxx yxy yyx yxy yxy xyy xyy yxy xxx yyx xxx yyx yyx yxy xxx xxx yyx xyy xyy yyx xyy yxy yxy xxx yyx yyx xxx yxy xxx yyx xxx \n",
      "000 110 001 010 000 111 011 000 011 001 000 101 011 011 101 011 000 100 011 010 001 001 010 110 110 110 001 111 000 011 110 110 010 111 100 001 111 111 111 100 110 011 \n",
      "111000110000111110110101101011110010010110\n",
      "111010111000001010110101100111110010010110\n"
     ]
    }
   ],
   "source": [
    "\n",
    "str1 = \"\"\n",
    "for i in bases_output:\n",
    "    str2 = \"\"\n",
    "    for j in i:\n",
    "        str2 += str(j)\n",
    "    str1 += str2\n",
    "    str1 += \" \"\n",
    "print(str1)\n",
    "\n",
    "str1 = \"\"\n",
    "for i in range(0,len(measurment_output),3):\n",
    "    str1+=str(measurment_output[i])\n",
    "    str1+=str(measurment_output[i+1])\n",
    "    str1+=str(measurment_output[i+2])\n",
    "    str1+=\" \"\n",
    "print(str1)\n",
    "\n",
    "str1 = \"\"\n",
    "for i in recovered_secret:\n",
    "    str1+=str(i)\n",
    "\n",
    "print(str1)\n",
    "\n",
    "str1 = \"\"\n",
    "for i in secret:\n",
    "    str1+=str(i)\n",
    "\n",
    "print(str1)"
   ]
  },
  {
   "cell_type": "code",
   "execution_count": 406,
   "metadata": {},
   "outputs": [],
   "source": [
    "#qiskit.visualization.plot_histogram(counts)\n",
    "#backend = service.backend(name=\"ibm_brisbane\")\n",
    "#scheme.draw(output='mpl')"
   ]
  }
 ],
 "metadata": {
  "kernelspec": {
   "display_name": ".venv",
   "language": "python",
   "name": "python3"
  },
  "language_info": {
   "codemirror_mode": {
    "name": "ipython",
    "version": 3
   },
   "file_extension": ".py",
   "mimetype": "text/x-python",
   "name": "python",
   "nbconvert_exporter": "python",
   "pygments_lexer": "ipython3",
   "version": "3.11.9"
  }
 },
 "nbformat": 4,
 "nbformat_minor": 2
}
