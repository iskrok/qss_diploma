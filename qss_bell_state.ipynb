{
 "cells": [
  {
   "cell_type": "code",
   "execution_count": 18,
   "metadata": {},
   "outputs": [],
   "source": [
    "#Подключение небходимых библиотек\n",
    "import qiskit, qiskit_aer\n",
    "import qiskit.visualization\n",
    "import qiskit_ibm_runtime\n",
    "import random\n",
    "import time\n",
    "from qiskit.transpiler.preset_passmanagers import generate_preset_pass_manager\n"
   ]
  },
  {
   "cell_type": "code",
   "execution_count": 19,
   "metadata": {},
   "outputs": [],
   "source": [
    "#service = qiskit_ibm_runtime.QiskitRuntimeService(channel ='ibm_quantum', token='17efa62aa9873b5a041acbd771297e673778205cc443bc748e869e84330c331fc92ce25cd9f5b87f1432106dd7983eedac0deedc237296b7ed815d6200f31b5a')"
   ]
  },
  {
   "cell_type": "code",
   "execution_count": 20,
   "metadata": {},
   "outputs": [],
   "source": [
    "qubits_num = 6 #количество необходимых кубитов\n",
    "secret_length = 256 #длина секрета\n",
    "secret = []\n",
    "for i in range(secret_length): #генерация случайного секрета\n",
    "    bit = random.randint(0,1)\n",
    "    secret.append(bit)"
   ]
  },
  {
   "cell_type": "code",
   "execution_count": 21,
   "metadata": {},
   "outputs": [],
   "source": [
    "#функция генерации начального состояния дилера\n",
    "def generate_bell():\n",
    "    qc = qiskit.QuantumCircuit(qubits_num, qubits_num) #указываем  \n",
    "    #количество квантовых и классических регистров\n",
    "\n",
    "    qc.x(0) #генерируем состояние B10\n",
    "    qc.h(0) \n",
    "    qc.cx(0,1) \n",
    "\n",
    "    qc.h(2) #генерируем состояние B00\n",
    "    qc.cx(2,3)\n",
    "\n",
    "    qc.h(4) #генерируем состояние B11\n",
    "    qc.x(5)\n",
    "    qc.z(4)\n",
    "    qc.z(5)\n",
    "    qc.cx(4,5)\n",
    "\n",
    "    return qc"
   ]
  },
  {
   "cell_type": "code",
   "execution_count": 22,
   "metadata": {},
   "outputs": [],
   "source": [
    "#функция кодирования секрета\n",
    "def secret_encode_bell(secret):\n",
    "    schemes = [] #массив схем, содержащих весь секрет\n",
    "    for i in range(0, len(secret),2):\n",
    "        qc = generate_bell() #генерируем состояние Белла\n",
    "        #для кодирования 00 ничего не делаем\n",
    "        if secret[i] == 0 and secret[i+1] == 1: #кодируем 01\n",
    "            qc.x(0)\n",
    "        elif secret[i] == 1 and secret[i+1] == 0: #кодируем 10\n",
    "            qc.z(0)\n",
    "        elif secret[i] == 1 and secret[i+1] == 1: #кодируем 11\n",
    "            qc.z(0)\n",
    "            qc.x(0)\n",
    "        schemes.append(qc)\n",
    "    return schemes"
   ]
  },
  {
   "cell_type": "code",
   "execution_count": 23,
   "metadata": {},
   "outputs": [],
   "source": [
    "ts1 = time.time()\n",
    "#применяем функцию кодирования\n",
    "encoded_secret = secret_encode_bell(secret)"
   ]
  },
  {
   "cell_type": "code",
   "execution_count": 24,
   "metadata": {},
   "outputs": [],
   "source": [
    "#функция проведения измерений в базисе Белла\n",
    "def bell_measurment(scheme):\n",
    "\n",
    "    scheme.cx(0,4) #измерение участника P1\n",
    "    scheme.h(0)\n",
    "    scheme.measure(0,0)\n",
    "    scheme.measure(4,4)\n",
    "\n",
    "    scheme.cx(1,3) #измерение участника P2\n",
    "    scheme.h(1)\n",
    "    scheme.measure(1,1)\n",
    "    scheme.measure(3,3)\n",
    "\n",
    "    scheme.cx(2,5) #измерение участника P3\n",
    "    scheme.h(2)\n",
    "    scheme.measure(2,2)\n",
    "    scheme.measure(5,5)\n",
    "\n",
    "    return scheme"
   ]
  },
  {
   "cell_type": "code",
   "execution_count": 25,
   "metadata": {},
   "outputs": [],
   "source": [
    "#функция для нахождения соответствий результатов парам битов\n",
    "def results_to_bits():\n",
    "    secret = [0,0,0,1,1,0,1,1] #кодируем все возможные пары битов\n",
    "    results = [] #массив результатов измерений\n",
    "    schemes = secret_encode_bell(secret) #генерируем изначальное состояние дилера \n",
    "    #и кодируем секрет\n",
    "    for i in range(4):\n",
    "        schemes[i] = bell_measurment(schemes[i]) #для каждой из схем проводим \n",
    "        #измерения\n",
    "        backend = qiskit_aer.AerSimulator() #подключение симулятора\n",
    "        \n",
    "        circuit = qiskit.transpile(schemes[i], backend) #транспиляция схемы\n",
    "\n",
    "        job = backend.run(circuit, shots=256) #многократно запускаем схему для \n",
    "        #получения всех возможных результатов измерений участников\n",
    "            \n",
    "        result = job.result() #считываем результаты измерений\n",
    "        counts=result.get_counts()\n",
    "        results.append(list(counts.keys()))\n",
    "    return results\n",
    "\n",
    "results = results_to_bits() #применяем функцию\n"
   ]
  },
  {
   "cell_type": "code",
   "execution_count": 26,
   "metadata": {},
   "outputs": [],
   "source": [
    "#функция восстановления битов секрета по известной информации\n",
    "def bit_recovering_bell(measures):\n",
    "    measure = ''.join(map(str, measures)) #преобразуем результаты измерений из \n",
    "    #массива в строку\n",
    "    result_00 = results[0] #результаты измерений участников, соответствующих битам \n",
    "    #00 и т.д.\n",
    "    result_01 = results[1]\n",
    "    result_10 = results[2]\n",
    "    result_11 = results[3]\n",
    "    if measure in result_00: #если полученный результат есть в \n",
    "        #каком-либо из массивов, то возвращаем соответствующую битовую пару\n",
    "        return [0,0]\n",
    "    elif measure in result_01:\n",
    "        return [0,1]\n",
    "    elif measure in result_10:\n",
    "        return [1,0]\n",
    "    elif measure in result_11:\n",
    "        return [1,1]\n",
    "\n"
   ]
  },
  {
   "cell_type": "code",
   "execution_count": 27,
   "metadata": {},
   "outputs": [],
   "source": [
    "#функция восстановления секрета\n",
    "def secret_decode_bell(schemes):\n",
    "    recovered_secret = [] #восстанавливаемый секрет\n",
    "\n",
    "    for scheme in schemes:\n",
    "        measures = []\n",
    "        scheme = bell_measurment(scheme) #проводим измерения\n",
    "        \n",
    "        backend = qiskit_aer.AerSimulator() #подключение симулятора\n",
    "        \n",
    "        circuit = qiskit.transpile(scheme, backend) #транспиляция схемы\n",
    "\n",
    "        job = backend.run(circuit, shots=1) #запускаем схему по одному разу для \n",
    "        #каждой пары битов\n",
    "        \n",
    "        result = job.result() #считываем результаты измерений\n",
    "        counts=result.get_counts()\n",
    "        \n",
    "        measures = list(map(int, list(counts.keys())[0])) #преобразуем полученные \n",
    "        #результаты в массив битов\n",
    "        \n",
    "        recovered_bits = bit_recovering_bell(measures) #восстанавливаем отдельную \n",
    "        #битовую пару\n",
    "        recovered_secret.append(recovered_bits) #добавляем биты к восстанавливаемому \n",
    "        #секрету\n",
    "    recovered_secret = [x for y in recovered_secret for x in y]\n",
    "    return recovered_secret\n"
   ]
  },
  {
   "cell_type": "code",
   "execution_count": 28,
   "metadata": {},
   "outputs": [
    {
     "name": "stdout",
     "output_type": "stream",
     "text": [
      "0\n",
      "6.180049180984497\n"
     ]
    }
   ],
   "source": [
    "recovered_secret = secret_decode_bell(encoded_secret)\n",
    "ts2 = time.time()\n",
    "errors = 0 #количество ошибок\n",
    "for i in range(secret_length): #подсчитываем количество ошибок\n",
    "    if secret[i] != recovered_secret[i]:\n",
    "        errors += 1\n",
    "print(errors)\n",
    "print(ts2-ts1)"
   ]
  },
  {
   "cell_type": "code",
   "execution_count": null,
   "metadata": {},
   "outputs": [],
   "source": [
    "\n",
    "\n",
    "\n",
    "\n",
    "\n",
    "\n",
    "\n",
    "\n",
    "\n",
    "\n",
    "\n",
    "\n",
    "\n",
    "\n",
    "\n",
    "\n",
    "\n",
    "\n",
    "\n",
    "\n",
    "\n",
    "\n",
    "\n",
    "\n",
    "\n"
   ]
  },
  {
   "cell_type": "code",
   "execution_count": 29,
   "metadata": {},
   "outputs": [],
   "source": [
    "total_qubits_num = 30 #количество кубит квантового процессора\n",
    "qubits_num = 6 #количество необходимых кубитов для передачи двух битов секрета\n",
    "secret_length = total_qubits_num//3 #длина секрета\n",
    "secret = []\n",
    "for i in range(secret_length): #генерация случайного секрета\n",
    "    bit = random.randint(0,1)\n",
    "    secret.append(bit)"
   ]
  },
  {
   "cell_type": "code",
   "execution_count": 30,
   "metadata": {},
   "outputs": [],
   "source": [
    "#функция генерации начального состояния дилера на квантовом процессоре\n",
    "def generate_bell_real():\n",
    "    qc = qiskit.QuantumCircuit(total_qubits_num, total_qubits_num) #указываем  \n",
    "    #количество квантовых и классических регистров\n",
    "    for i in range(0, total_qubits_num - qubits_num + 1, qubits_num):\n",
    "        qc.x(i) #генерируем состояние B10\n",
    "        qc.h(i) \n",
    "        qc.cx(i,i+1) \n",
    "\n",
    "        qc.h(i+2) #генерируем состояние B00\n",
    "        qc.cx(i+2,i+3)\n",
    "\n",
    "        qc.h(i+4) #генерируем состояние B11\n",
    "        qc.x(i+5)\n",
    "        qc.z(i+4)\n",
    "        qc.z(i+5)\n",
    "        qc.cx(i+4,i+5)\n",
    "\n",
    "    return qc"
   ]
  },
  {
   "cell_type": "code",
   "execution_count": 31,
   "metadata": {},
   "outputs": [],
   "source": [
    "#функция кодирования секрета на квантовом процессоре\n",
    "def secret_encode_bell_real(secret):\n",
    "    qc = generate_bell_real()\n",
    "    for i in range(0, len(secret),2):\n",
    "        #для кодирования 00 ничего не делаем\n",
    "        if secret[i] == 0 and secret[i+1] == 1: #кодируем 01\n",
    "            qc.x(i*3)\n",
    "        elif secret[i] == 1 and secret[i+1] == 0: #кодируем 10\n",
    "            qc.z(i*3)\n",
    "        elif secret[i] == 1 and secret[i+1] == 1: #кодируем 11\n",
    "            qc.z(i*3)\n",
    "            qc.x(i*3)\n",
    "    return qc\n",
    "\n",
    "#применяем функцию кодирования\n",
    "encoded_secret_real = secret_encode_bell_real(secret)"
   ]
  },
  {
   "cell_type": "code",
   "execution_count": 32,
   "metadata": {},
   "outputs": [],
   "source": [
    "#функция проведения измерений в базисе Белла для квантового процессора\n",
    "def bell_measurment_real(scheme):\n",
    "    for i in range(0,total_qubits_num//6):\n",
    "        scheme.cx(i*6,i*6+4) #измерение участника P1\n",
    "        scheme.h(i*6)\n",
    "        scheme.measure(i*6,i*6)\n",
    "        scheme.measure(i*6+4,i*6+4)\n",
    "\n",
    "        scheme.cx(i*6+1,i*6+3) #измерение участника P2\n",
    "        scheme.h(i*6+1)\n",
    "        scheme.measure(i*6+1,i*6+1)\n",
    "        scheme.measure(i*6+3,i*6+3)\n",
    "\n",
    "        scheme.cx(i*6+2,i*6+5) #измерение участника P3\n",
    "        scheme.h(i*6+2)\n",
    "        scheme.measure(i*6+2,i*6+2)\n",
    "        scheme.measure(i*6+5,i*6+5)\n",
    "\n",
    "    return scheme"
   ]
  },
  {
   "cell_type": "code",
   "execution_count": 33,
   "metadata": {},
   "outputs": [],
   "source": [
    "#функция восстановления секрета для квантового процессора\n",
    "def secret_decode_bell_real(scheme):\n",
    "    recovered_secret = [] #восстанавливаемый секрет\n",
    "    measures = []\n",
    "    scheme = bell_measurment_real(scheme) #проводим измерения\n",
    "    \n",
    "    backend = qiskit_aer.AerSimulator() #подключение симулятора\n",
    "    #backend = service.backend(name=\"ibm_brisbane\") #вместо симулятора выбираем  \n",
    "    #квантовое устройство, в данном случае ibm_brisbane\n",
    "        \n",
    "    circuit = qiskit.transpile(scheme, backend) #транспиляция схемы\n",
    "\n",
    "    job = backend.run(circuit, shots=1) #запускаем схему на квантовом процессоре \n",
    "    #один раз\n",
    "        \n",
    "    result = job.result() #считываем результаты измерений\n",
    "    counts=result.get_counts()\n",
    "    measures = list(map(int, list(counts.keys())[0])) #преобразуем полученные \n",
    "        #результаты в массив битов\n",
    "     \n",
    "\n",
    "    for i in range(len(measures)//6):\n",
    "        \n",
    "        bell_measure = measures[i*6:(i+1)*6] #тройка результатов измерений\n",
    "\n",
    "        recovered_bits = bit_recovering_bell(bell_measure)\n",
    "\n",
    "        recovered_secret.append(recovered_bits) #добавляем бит к восстанавливаемому \n",
    "        #секрету\n",
    "    recovered_secret.reverse()\n",
    "    recovered_secret = [x for y in recovered_secret for x in y]\n",
    "    \n",
    "    return recovered_secret"
   ]
  },
  {
   "cell_type": "code",
   "execution_count": 34,
   "metadata": {},
   "outputs": [
    {
     "name": "stdout",
     "output_type": "stream",
     "text": [
      "[1, 0, 1, 0, 1, 1, 1, 0, 0, 1]\n",
      "[1, 0, 1, 0, 1, 1, 1, 0, 0, 1]\n",
      "QBER = 0.0 %\n"
     ]
    }
   ],
   "source": [
    "recovered_secret = secret_decode_bell_real(encoded_secret_real) #применяем функцию \n",
    "#декодирования секрета\n",
    "errors = 0 #количество ошибок\n",
    "for i in range(secret_length): #подсчитываем количество ошибок\n",
    "    if secret[i] != recovered_secret[i]:\n",
    "        errors += 1\n",
    "\n",
    "qber = errors/secret_length*100 #QBER - величина, показывающая процент ошибок\n",
    "print(\"QBER =\", qber,\"%\")"
   ]
  },
  {
   "cell_type": "code",
   "execution_count": 35,
   "metadata": {},
   "outputs": [
    {
     "name": "stdout",
     "output_type": "stream",
     "text": [
      "00: ['001000', '001011', '001101', '001110', '010000', '010011', '010101', '010110', '100000', '100011', '100101', '100110', '111000', '111011', '111101', '111110']\n",
      "01: ['000000', '000011', '000101', '000110', '011000', '011011', '011101', '011110', '101000', '101011', '101101', '101110', '110000', '110011', '110101', '110110']\n",
      "10: ['001001', '001010', '001100', '001111', '010001', '010010', '010100', '010111', '100001', '100010', '100100', '100111', '111001', '111010', '111100', '111111']\n",
      "11: ['000001', '000010', '000100', '000111', '011001', '011010', '011100', '011111', '101001', '101010', '101100', '101111', '110001', '110010', '110100', '110111']\n"
     ]
    },
    {
     "ename": "NameError",
     "evalue": "name 'measurment_output' is not defined",
     "output_type": "error",
     "traceback": [
      "\u001b[1;31m---------------------------------------------------------------------------\u001b[0m",
      "\u001b[1;31mNameError\u001b[0m                                 Traceback (most recent call last)",
      "Cell \u001b[1;32mIn[35], line 6\u001b[0m\n\u001b[0;32m      4\u001b[0m \u001b[38;5;28mprint\u001b[39m(\u001b[38;5;124m\"\u001b[39m\u001b[38;5;124m11:\u001b[39m\u001b[38;5;124m\"\u001b[39m, \u001b[38;5;28msorted\u001b[39m(results[\u001b[38;5;241m3\u001b[39m]))\n\u001b[0;32m      5\u001b[0m str1 \u001b[38;5;241m=\u001b[39m \u001b[38;5;124m\"\u001b[39m\u001b[38;5;124m\"\u001b[39m\n\u001b[1;32m----> 6\u001b[0m \u001b[38;5;28;01mfor\u001b[39;00m i \u001b[38;5;129;01min\u001b[39;00m \u001b[38;5;28mrange\u001b[39m(\u001b[38;5;241m0\u001b[39m,\u001b[38;5;28mlen\u001b[39m(\u001b[43mmeasurment_output\u001b[49m),\u001b[38;5;241m6\u001b[39m):\n\u001b[0;32m      7\u001b[0m     str1\u001b[38;5;241m+\u001b[39m\u001b[38;5;241m=\u001b[39m\u001b[38;5;28mstr\u001b[39m(measurment_output[i])\n\u001b[0;32m      8\u001b[0m     str1\u001b[38;5;241m+\u001b[39m\u001b[38;5;241m=\u001b[39m\u001b[38;5;28mstr\u001b[39m(measurment_output[i\u001b[38;5;241m+\u001b[39m\u001b[38;5;241m1\u001b[39m])\n",
      "\u001b[1;31mNameError\u001b[0m: name 'measurment_output' is not defined"
     ]
    }
   ],
   "source": [
    "print(\"00:\", sorted(results[0]))\n",
    "print(\"01:\", sorted(results[1]))\n",
    "print(\"10:\", sorted(results[2]))\n",
    "print(\"11:\", sorted(results[3]))\n",
    "str1 = \"\"\n",
    "for i in range(0,len(measurment_output),6):\n",
    "    str1+=str(measurment_output[i])\n",
    "    str1+=str(measurment_output[i+1])\n",
    "    str1+=str(measurment_output[i+2])\n",
    "    str1+=str(measurment_output[i+3])\n",
    "    str1+=str(measurment_output[i+4])\n",
    "    str1+=str(measurment_output[i+5])\n",
    "    str1+=\" \"\n",
    "print(str1)\n",
    "recovered_secret.reverse()\n",
    "str1 = \"\"\n",
    "for i in range(0,len(recovered_secret),2):\n",
    "    str1+=str(recovered_secret[i])\n",
    "    str1+=str(recovered_secret[i+1])\n",
    "    str1+= \" \"\n",
    "\n",
    "print(str1)\n",
    "secret.reverse()\n",
    "str1 = \"\"\n",
    "for i in range(0,len(secret),2):\n",
    "    str1+=str(secret[i])\n",
    "    str1+=str(secret[i+1])\n",
    "    str1+= \" \"\n",
    "\n",
    "print(str1)\n"
   ]
  },
  {
   "cell_type": "code",
   "execution_count": 327,
   "metadata": {},
   "outputs": [],
   "source": [
    "#qiskit.visualization.plot_histogram(counts)\n",
    "#backend = service.backend(name=\"ibm_brisbane\")\n",
    "#scheme.draw(output='mpl')"
   ]
  }
 ],
 "metadata": {
  "kernelspec": {
   "display_name": ".venv",
   "language": "python",
   "name": "python3"
  },
  "language_info": {
   "codemirror_mode": {
    "name": "ipython",
    "version": 3
   },
   "file_extension": ".py",
   "mimetype": "text/x-python",
   "name": "python",
   "nbconvert_exporter": "python",
   "pygments_lexer": "ipython3",
   "version": "3.11.9"
  }
 },
 "nbformat": 4,
 "nbformat_minor": 2
}
